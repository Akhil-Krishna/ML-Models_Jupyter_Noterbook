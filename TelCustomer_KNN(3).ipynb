{
 "cells": [
  {
   "cell_type": "markdown",
   "id": "f4511d71-f71a-4d2c-a5f4-16174744fa43",
   "metadata": {},
   "source": [
    "# Telecommunication Customers to Services -  KNN Classification "
   ]
  },
  {
   "cell_type": "code",
   "execution_count": null,
   "id": "aa959115-8487-45e4-8422-8b17b7d096d6",
   "metadata": {},
   "outputs": [],
   "source": []
  },
  {
   "cell_type": "markdown",
   "id": "fc728172-7746-473a-a5ff-6d432303ada5",
   "metadata": {},
   "source": [
    "## Dataset Collection"
   ]
  },
  {
   "cell_type": "code",
   "execution_count": 37,
   "id": "2514576c-6738-4c78-91bd-c02c96bb994a",
   "metadata": {},
   "outputs": [
    {
     "data": {
      "text/html": [
       "<div>\n",
       "<style scoped>\n",
       "    .dataframe tbody tr th:only-of-type {\n",
       "        vertical-align: middle;\n",
       "    }\n",
       "\n",
       "    .dataframe tbody tr th {\n",
       "        vertical-align: top;\n",
       "    }\n",
       "\n",
       "    .dataframe thead th {\n",
       "        text-align: right;\n",
       "    }\n",
       "</style>\n",
       "<table border=\"1\" class=\"dataframe\">\n",
       "  <thead>\n",
       "    <tr style=\"text-align: right;\">\n",
       "      <th></th>\n",
       "      <th>region</th>\n",
       "      <th>tenure</th>\n",
       "      <th>age</th>\n",
       "      <th>marital</th>\n",
       "      <th>address</th>\n",
       "      <th>income</th>\n",
       "      <th>ed</th>\n",
       "      <th>employ</th>\n",
       "      <th>retire</th>\n",
       "      <th>gender</th>\n",
       "      <th>reside</th>\n",
       "      <th>custcat</th>\n",
       "    </tr>\n",
       "  </thead>\n",
       "  <tbody>\n",
       "    <tr>\n",
       "      <th>0</th>\n",
       "      <td>2</td>\n",
       "      <td>13</td>\n",
       "      <td>44</td>\n",
       "      <td>1</td>\n",
       "      <td>9</td>\n",
       "      <td>64.0</td>\n",
       "      <td>4</td>\n",
       "      <td>5</td>\n",
       "      <td>0.0</td>\n",
       "      <td>0</td>\n",
       "      <td>2</td>\n",
       "      <td>1</td>\n",
       "    </tr>\n",
       "    <tr>\n",
       "      <th>1</th>\n",
       "      <td>3</td>\n",
       "      <td>11</td>\n",
       "      <td>33</td>\n",
       "      <td>1</td>\n",
       "      <td>7</td>\n",
       "      <td>136.0</td>\n",
       "      <td>5</td>\n",
       "      <td>5</td>\n",
       "      <td>0.0</td>\n",
       "      <td>0</td>\n",
       "      <td>6</td>\n",
       "      <td>4</td>\n",
       "    </tr>\n",
       "    <tr>\n",
       "      <th>2</th>\n",
       "      <td>3</td>\n",
       "      <td>68</td>\n",
       "      <td>52</td>\n",
       "      <td>1</td>\n",
       "      <td>24</td>\n",
       "      <td>116.0</td>\n",
       "      <td>1</td>\n",
       "      <td>29</td>\n",
       "      <td>0.0</td>\n",
       "      <td>1</td>\n",
       "      <td>2</td>\n",
       "      <td>3</td>\n",
       "    </tr>\n",
       "    <tr>\n",
       "      <th>3</th>\n",
       "      <td>2</td>\n",
       "      <td>33</td>\n",
       "      <td>33</td>\n",
       "      <td>0</td>\n",
       "      <td>12</td>\n",
       "      <td>33.0</td>\n",
       "      <td>2</td>\n",
       "      <td>0</td>\n",
       "      <td>0.0</td>\n",
       "      <td>1</td>\n",
       "      <td>1</td>\n",
       "      <td>1</td>\n",
       "    </tr>\n",
       "    <tr>\n",
       "      <th>4</th>\n",
       "      <td>2</td>\n",
       "      <td>23</td>\n",
       "      <td>30</td>\n",
       "      <td>1</td>\n",
       "      <td>9</td>\n",
       "      <td>30.0</td>\n",
       "      <td>1</td>\n",
       "      <td>2</td>\n",
       "      <td>0.0</td>\n",
       "      <td>0</td>\n",
       "      <td>4</td>\n",
       "      <td>3</td>\n",
       "    </tr>\n",
       "    <tr>\n",
       "      <th>...</th>\n",
       "      <td>...</td>\n",
       "      <td>...</td>\n",
       "      <td>...</td>\n",
       "      <td>...</td>\n",
       "      <td>...</td>\n",
       "      <td>...</td>\n",
       "      <td>...</td>\n",
       "      <td>...</td>\n",
       "      <td>...</td>\n",
       "      <td>...</td>\n",
       "      <td>...</td>\n",
       "      <td>...</td>\n",
       "    </tr>\n",
       "    <tr>\n",
       "      <th>995</th>\n",
       "      <td>3</td>\n",
       "      <td>10</td>\n",
       "      <td>39</td>\n",
       "      <td>0</td>\n",
       "      <td>0</td>\n",
       "      <td>27.0</td>\n",
       "      <td>3</td>\n",
       "      <td>0</td>\n",
       "      <td>0.0</td>\n",
       "      <td>1</td>\n",
       "      <td>3</td>\n",
       "      <td>1</td>\n",
       "    </tr>\n",
       "    <tr>\n",
       "      <th>996</th>\n",
       "      <td>1</td>\n",
       "      <td>7</td>\n",
       "      <td>34</td>\n",
       "      <td>0</td>\n",
       "      <td>2</td>\n",
       "      <td>22.0</td>\n",
       "      <td>5</td>\n",
       "      <td>5</td>\n",
       "      <td>0.0</td>\n",
       "      <td>1</td>\n",
       "      <td>1</td>\n",
       "      <td>1</td>\n",
       "    </tr>\n",
       "    <tr>\n",
       "      <th>997</th>\n",
       "      <td>3</td>\n",
       "      <td>67</td>\n",
       "      <td>59</td>\n",
       "      <td>0</td>\n",
       "      <td>40</td>\n",
       "      <td>944.0</td>\n",
       "      <td>5</td>\n",
       "      <td>33</td>\n",
       "      <td>0.0</td>\n",
       "      <td>1</td>\n",
       "      <td>1</td>\n",
       "      <td>4</td>\n",
       "    </tr>\n",
       "    <tr>\n",
       "      <th>998</th>\n",
       "      <td>3</td>\n",
       "      <td>70</td>\n",
       "      <td>49</td>\n",
       "      <td>0</td>\n",
       "      <td>18</td>\n",
       "      <td>87.0</td>\n",
       "      <td>2</td>\n",
       "      <td>22</td>\n",
       "      <td>0.0</td>\n",
       "      <td>1</td>\n",
       "      <td>1</td>\n",
       "      <td>3</td>\n",
       "    </tr>\n",
       "    <tr>\n",
       "      <th>999</th>\n",
       "      <td>3</td>\n",
       "      <td>50</td>\n",
       "      <td>36</td>\n",
       "      <td>1</td>\n",
       "      <td>7</td>\n",
       "      <td>39.0</td>\n",
       "      <td>3</td>\n",
       "      <td>3</td>\n",
       "      <td>0.0</td>\n",
       "      <td>1</td>\n",
       "      <td>3</td>\n",
       "      <td>2</td>\n",
       "    </tr>\n",
       "  </tbody>\n",
       "</table>\n",
       "<p>1000 rows × 12 columns</p>\n",
       "</div>"
      ],
      "text/plain": [
       "     region  tenure  age  marital  address  income  ed  employ  retire  \\\n",
       "0         2      13   44        1        9    64.0   4       5     0.0   \n",
       "1         3      11   33        1        7   136.0   5       5     0.0   \n",
       "2         3      68   52        1       24   116.0   1      29     0.0   \n",
       "3         2      33   33        0       12    33.0   2       0     0.0   \n",
       "4         2      23   30        1        9    30.0   1       2     0.0   \n",
       "..      ...     ...  ...      ...      ...     ...  ..     ...     ...   \n",
       "995       3      10   39        0        0    27.0   3       0     0.0   \n",
       "996       1       7   34        0        2    22.0   5       5     0.0   \n",
       "997       3      67   59        0       40   944.0   5      33     0.0   \n",
       "998       3      70   49        0       18    87.0   2      22     0.0   \n",
       "999       3      50   36        1        7    39.0   3       3     0.0   \n",
       "\n",
       "     gender  reside  custcat  \n",
       "0         0       2        1  \n",
       "1         0       6        4  \n",
       "2         1       2        3  \n",
       "3         1       1        1  \n",
       "4         0       4        3  \n",
       "..      ...     ...      ...  \n",
       "995       1       3        1  \n",
       "996       1       1        1  \n",
       "997       1       1        4  \n",
       "998       1       1        3  \n",
       "999       1       3        2  \n",
       "\n",
       "[1000 rows x 12 columns]"
      ]
     },
     "execution_count": 37,
     "metadata": {},
     "output_type": "execute_result"
    }
   ],
   "source": [
    "import pandas as pd\n",
    "\n",
    "df=pd.read_csv(\"telCustomerService.csv\")\n",
    "df.drop(df.columns[0], axis=1, inplace=True)\n",
    "df\n"
   ]
  },
  {
   "cell_type": "code",
   "execution_count": 41,
   "id": "641b9c95-a3b1-4c41-b795-50134c6a0635",
   "metadata": {},
   "outputs": [
    {
     "data": {
      "text/plain": [
       "0      1\n",
       "1      4\n",
       "2      3\n",
       "3      1\n",
       "4      3\n",
       "      ..\n",
       "995    1\n",
       "996    1\n",
       "997    4\n",
       "998    3\n",
       "999    2\n",
       "Name: custcat, Length: 1000, dtype: int64"
      ]
     },
     "execution_count": 41,
     "metadata": {},
     "output_type": "execute_result"
    }
   ],
   "source": [
    "X=df.drop(columns=['custcat'])\n",
    "y=df['custcat']\n",
    "X"
   ]
  },
  {
   "cell_type": "markdown",
   "id": "3d1f1007-18ed-4b07-b268-4231f4b8178d",
   "metadata": {},
   "source": [
    "## Data Preprocessing"
   ]
  },
  {
   "cell_type": "markdown",
   "id": "c12c3e9f-7904-4123-9d7d-993781027d0b",
   "metadata": {},
   "source": [
    "### Null value removal"
   ]
  },
  {
   "cell_type": "code",
   "execution_count": 15,
   "id": "86603ccc-b585-4a3d-ba7a-11309c7c9832",
   "metadata": {},
   "outputs": [
    {
     "data": {
      "text/plain": [
       "Unnamed: 0    0\n",
       "region        0\n",
       "tenure        0\n",
       "age           0\n",
       "marital       0\n",
       "address       0\n",
       "income        0\n",
       "ed            0\n",
       "employ        0\n",
       "retire        0\n",
       "gender        0\n",
       "reside        0\n",
       "custcat       0\n",
       "dtype: int64"
      ]
     },
     "execution_count": 15,
     "metadata": {},
     "output_type": "execute_result"
    }
   ],
   "source": [
    "df.isnull().sum()"
   ]
  },
  {
   "cell_type": "markdown",
   "id": "c72cdd10-07e5-4969-8231-0ec18fe43fc2",
   "metadata": {},
   "source": [
    "We dont have any null values so no need of null value remover"
   ]
  },
  {
   "cell_type": "code",
   "execution_count": 30,
   "id": "28d0ea2d-6e8d-4fba-a16a-c573629d0652",
   "metadata": {},
   "outputs": [],
   "source": [
    "# if needed a null remover use the following function\n",
    "\n",
    "\n",
    "def null_value_removal(arr):\n",
    "    from sklearn.impute import KNNImputer\n",
    "    import numpy as np\n",
    "    \n",
    "    imputer=KNNImputer(n_neighbors=2)\n",
    "    new_arr=imputer.fit_transform(arr)\n",
    "    \n",
    "    return new_arr\n",
    "\n",
    "    "
   ]
  },
  {
   "cell_type": "markdown",
   "id": "323323f4-bc6c-4626-a899-36c97571f5dd",
   "metadata": {},
   "source": [
    "### Scalining / Normalizing the data\n",
    "\n",
    "Either use MinMaxScaler or StandardScaler to normalize the data of each column\n",
    "\n",
    "eg: \n",
    "if x1 ranges from 1-1000 and x2 ranges from 1-10 , there is a huge range difference between each variable that may affect the efficiency of model\n",
    "so we need to scale it\n",
    "\n",
    "StandardScaler - scaling by making mean value 0 and std.dev 1\n",
    "MinMaxScaler   - scaling by making values 0 to 1 (min value =0 and max=1) --> newvalue= old-min/max-min\n",
    "\n"
   ]
  },
  {
   "cell_type": "code",
   "execution_count": 95,
   "id": "8615755f-c395-4698-9f0c-61e1ae662cc4",
   "metadata": {},
   "outputs": [
    {
     "data": {
      "text/plain": [
       "array([[-0.02696767, -1.055125  ,  0.18450456, ..., -0.22207644,\n",
       "        -1.03459817, -0.23065004],\n",
       "       [ 1.19883553, -1.14880563, -0.69181243, ..., -0.22207644,\n",
       "        -1.03459817,  2.55666158],\n",
       "       [ 1.19883553,  1.52109247,  0.82182601, ..., -0.22207644,\n",
       "         0.96655883, -0.23065004],\n",
       "       ...,\n",
       "       [ 1.19883553,  1.47425216,  1.37948227, ..., -0.22207644,\n",
       "         0.96655883, -0.92747794],\n",
       "       [ 1.19883553,  1.61477311,  0.58283046, ..., -0.22207644,\n",
       "         0.96655883, -0.92747794],\n",
       "       [ 1.19883553,  0.67796676, -0.45281689, ..., -0.22207644,\n",
       "         0.96655883,  0.46617787]])"
      ]
     },
     "execution_count": 95,
     "metadata": {},
     "output_type": "execute_result"
    }
   ],
   "source": [
    "from sklearn.preprocessing import StandardScaler\n",
    "\n",
    "scaler=StandardScaler()\n",
    "X=scaler.fit_transform(X)\n",
    "X"
   ]
  },
  {
   "cell_type": "markdown",
   "id": "10e538e4-637b-45b6-9b0a-62dd031e1b5c",
   "metadata": {},
   "source": [
    "## Train and Test SPlit"
   ]
  },
  {
   "cell_type": "code",
   "execution_count": 50,
   "id": "df581102-1d30-483c-853b-677c634caf37",
   "metadata": {},
   "outputs": [
    {
     "name": "stdout",
     "output_type": "stream",
     "text": [
      "(780, 11) (220, 11) (780,) (220,)\n"
     ]
    }
   ],
   "source": [
    "from sklearn.model_selection import train_test_split\n",
    "\n",
    "train_X,test_X,train_y,test_y=train_test_split(X,y,test_size=0.22)\n",
    "\n",
    "print(train_X.shape,test_X.shape,train_y.shape,test_y.shape)\n"
   ]
  },
  {
   "cell_type": "markdown",
   "id": "0403d096-4230-42fc-aac5-69fc4f5fd240",
   "metadata": {},
   "source": [
    "## Model fitting"
   ]
  },
  {
   "cell_type": "code",
   "execution_count": 57,
   "id": "26a0e88b-f310-47f2-92d7-858774fe0c83",
   "metadata": {},
   "outputs": [
    {
     "name": "stdout",
     "output_type": "stream",
     "text": [
      "KNeighborsClassifier(n_neighbors=4)\n"
     ]
    }
   ],
   "source": [
    "from sklearn.neighbors import KNeighborsClassifier\n",
    "\n",
    "model= KNeighborsClassifier(n_neighbors=4)\n",
    "model.fit(train_X,train_y)\n",
    "\n",
    "print(model)\n"
   ]
  },
  {
   "cell_type": "markdown",
   "id": "97041de9-8e9d-4bf2-8731-6e93467287df",
   "metadata": {},
   "source": [
    "## Prediction"
   ]
  },
  {
   "cell_type": "code",
   "execution_count": 60,
   "id": "0a879181-f1c2-49a1-9ba2-2a8b09dce931",
   "metadata": {},
   "outputs": [
    {
     "data": {
      "text/plain": [
       "array([2, 4, 3, 1, 3, 2, 2, 1, 1, 4, 1, 4, 2, 1, 1, 3, 2, 3, 1, 1, 1, 1,\n",
       "       4, 4, 3, 3, 4, 2, 2, 1, 3, 3, 3, 1, 1, 4, 4, 3, 1, 4, 3, 3, 3, 4,\n",
       "       3, 3, 4, 1, 4, 1, 1, 2, 3, 3, 4, 1, 2, 3, 4, 2, 3, 2, 1, 1, 2, 3,\n",
       "       3, 4, 3, 2, 3, 2, 1, 1, 1, 3, 3, 1, 3, 1, 2, 1, 1, 1, 4, 3, 3, 3,\n",
       "       3, 4, 3, 2, 1, 4, 3, 2, 2, 1, 1, 3, 1, 4, 1, 1, 3, 2, 3, 4, 4, 1,\n",
       "       1, 1, 3, 1, 2, 1, 1, 1, 2, 4, 1, 3, 1, 2, 4, 3, 3, 3, 4, 2, 1, 4,\n",
       "       3, 4, 2, 4, 1, 3, 1, 1, 1, 2, 4, 1, 1, 4, 2, 2, 1, 3, 1, 3, 2, 4,\n",
       "       4, 2, 1, 3, 3, 3, 3, 2, 3, 1, 2, 2, 3, 3, 1, 3, 1, 2, 2, 1, 4, 4,\n",
       "       4, 1, 3, 1, 3, 3, 3, 1, 4, 1, 1, 1, 2, 2, 1, 1, 1, 4, 4, 1, 4, 1,\n",
       "       2, 1, 4, 1, 3, 3, 4, 1, 3, 3, 1, 3, 1, 3, 1, 1, 4, 2, 2, 3, 3, 1],\n",
       "      dtype=int64)"
      ]
     },
     "execution_count": 60,
     "metadata": {},
     "output_type": "execute_result"
    }
   ],
   "source": [
    "predicted_y=model.predict(test_X)\n",
    "predicted_y"
   ]
  },
  {
   "cell_type": "markdown",
   "id": "f4aa187e-9f8f-4c2b-b720-bcf923297a15",
   "metadata": {},
   "source": [
    "## Accuracy"
   ]
  },
  {
   "cell_type": "code",
   "execution_count": 69,
   "id": "e18b70ad-e26f-4fa8-9915-fdaa4d665679",
   "metadata": {},
   "outputs": [
    {
     "name": "stdout",
     "output_type": "stream",
     "text": [
      "0.32727272727272727\n"
     ]
    }
   ],
   "source": [
    "from sklearn.metrics import accuracy_score\n",
    "\n",
    "print(accuracy_score(test_y,predicted_y))"
   ]
  },
  {
   "cell_type": "markdown",
   "id": "ef6d088d-a9d8-463a-acc4-3fa290c98fdb",
   "metadata": {},
   "source": [
    "## K value finding"
   ]
  },
  {
   "cell_type": "code",
   "execution_count": 76,
   "id": "6bca3ca3-7dcc-4b6b-a0d6-d190bffa8021",
   "metadata": {},
   "outputs": [
    {
     "name": "stdout",
     "output_type": "stream",
     "text": [
      "[0.         0.25       0.25909091 0.32272727 0.32727273 0.34090909\n",
      " 0.33636364 0.32727273 0.34090909 0.35454545]\n"
     ]
    }
   ],
   "source": [
    "accuracy=np.zeros(10)\n",
    "for i in range(1,10):\n",
    "    model= KNeighborsClassifier(n_neighbors=i)\n",
    "    model.fit(train_X,train_y)\n",
    "    y1=model.predict(test_X)\n",
    "    accuracy[i]=accuracy_score(test_y,y1)\n",
    "print(accuracy)\n",
    "    \n",
    "    \n",
    "    "
   ]
  },
  {
   "cell_type": "code",
   "execution_count": 84,
   "id": "6664dcb7-b6cd-4e10-b540-5e9b0f1fc11a",
   "metadata": {},
   "outputs": [
    {
     "name": "stdout",
     "output_type": "stream",
     "text": [
      "Best K-Value = 9 and accuracy is 0.35454545454545455\n"
     ]
    }
   ],
   "source": [
    "best_accuracy=accuracy.max()\n",
    "best_k=accuracy.argmax()\n",
    "print(f\"Best K-Value = {best_k} and accuracy is {best_accuracy}\")"
   ]
  },
  {
   "cell_type": "code",
   "execution_count": 90,
   "id": "c85223ce-dda6-459a-81b0-f5acb1b97b30",
   "metadata": {},
   "outputs": [
    {
     "data": {
      "image/png": "[encoded data removed]",
      "text/plain": [
       "<Figure size 640x480 with 1 Axes>"
      ]
     },
     "metadata": {},
     "output_type": "display_data"
    }
   ],
   "source": [
    "import matplotlib.pyplot as plt\n",
    "\n",
    "plt.plot(range(0,10),accuracy,color='green')\n",
    "plt.title(\"Accuracy of K\")\n",
    "plt.xlabel('K-value ')\n",
    "plt.ylabel('Accuracy')\n",
    "\n",
    "plt.show()"
   ]
  },
  {
   "cell_type": "code",
   "execution_count": null,
   "id": "c950dd47-3d69-4d14-92e7-6949251a4032",
   "metadata": {},
   "outputs": [],
   "source": [
    "\n",
    "\n",
    "\n"
   ]
  },
  {
   "cell_type": "markdown",
   "id": "aeb30e92-e0be-4f4f-89cc-7576d530ced9",
   "metadata": {},
   "source": [
    "## AUTHOR"
   ]
  },
  {
   "cell_type": "markdown",
   "id": "c22ca6b1-baf2-40d1-9a38-9f9a453bfb8b",
   "metadata": {},
   "source": [
    "### Akhil Krishna"
   ]
  },
  {
   "cell_type": "code",
   "execution_count": null,
   "id": "e656d6fd-1f23-4f12-9f7d-62feb942f9ce",
   "metadata": {},
   "outputs": [],
   "source": []
  }
 ],
 "metadata": {
  "kernelspec": {
   "display_name": "Python 3 (ipykernel)",
   "language": "python",
   "name": "python3"
  },
  "language_info": {
   "codemirror_mode": {
    "name": "ipython",
    "version": 3
   },
   "file_extension": ".py",
   "mimetype": "text/x-python",
   "name": "python",
   "nbconvert_exporter": "python",
   "pygments_lexer": "ipython3",
   "version": "3.12.4"
  }
 },
 "nbformat": 4,
 "nbformat_minor": 5
}
